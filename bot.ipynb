{
 "metadata": {
  "language_info": {
   "codemirror_mode": {
    "name": "ipython",
    "version": 3
   },
   "file_extension": ".py",
   "mimetype": "text/x-python",
   "name": "python",
   "nbconvert_exporter": "python",
   "pygments_lexer": "ipython3",
   "version": 3
  },
  "orig_nbformat": 2
 },
 "nbformat": 4,
 "nbformat_minor": 2,
 "cells": [
  {
   "cell_type": "code",
   "execution_count": null,
   "metadata": {},
   "outputs": [],
   "source": [
    "from google.colab import drive\n",
    "drive.mount('/content/drive')"
   ]
  },
  {
   "cell_type": "code",
   "execution_count": null,
   "metadata": {},
   "outputs": [],
   "source": [
    "import os\n",
    "\n",
    "# Move into our project\n",
    "os.chdir('/content/drive/MyDrive/crowd-counter-bot')"
   ]
  },
  {
   "cell_type": "code",
   "execution_count": null,
   "metadata": {},
   "outputs": [],
   "source": [
    "# Use the old TF and downgrade h5py so we dont run into issues when loading our weights\n",
    "\n",
    "%tensorflow_version 1.x\n",
    "!pip install 'h5py==2.10.0' --force-reinstall\n",
    "!pip install pillow"
   ]
  },
  {
   "cell_type": "code",
   "execution_count": null,
   "metadata": {},
   "outputs": [],
   "source": [
    "from model.IUML import IUMLnet\n",
    "\n",
    "# Load up the model\n",
    "model = IUMLnet()\n",
    "model.load_weights('model/IUML_best.hdf5')"
   ]
  },
  {
   "cell_type": "code",
   "execution_count": null,
   "metadata": {},
   "outputs": [],
   "source": [
    "import cv2\n",
    "import datetime\n",
    "import requests\n",
    "import numpy as np\n",
    "from PIL import Image\n",
    "from io import BytesIO\n",
    "\n",
    "\n",
    "def request(url):\n",
    "    \"\"\"Predicts the number of people in an image given by the url.\n",
    "\n",
    "    :param url: URL to the image\n",
    "    :type urL: str\n",
    "\n",
    "    :return: A tuple containing the number of people in the image and the execution time\n",
    "    :rtype: tuple of floats\n",
    "    \"\"\"\n",
    "\n",
    "    # Load up the image\n",
    "    response = requests.get(url)\n",
    "    img = Image.open(BytesIO(response.content)).convert('RGB')\n",
    "\n",
    "    start_time = datetime.datetime.now()\n",
    "\n",
    "    # Convert from RGB to BGR\n",
    "    img = np.array(img)\n",
    "    img = img[:,:,::-1]\n",
    "\n",
    "    # Network has been trained on 1024x768 dataset\n",
    "    if img.shape != (768, 1024, 3):\n",
    "        img = cv2.resize(img, (1024, 768))\n",
    "\n",
    "    # Some required pre-processing\n",
    "    img = img / 255.0\n",
    "    img[:,:,0] = (img[:,:,0]-0.485) / 0.229\n",
    "    img[:,:,1] = (img[:,:,1]-0.456) / 0.224\n",
    "    img[:,:,2] = (img[:,:,2]-0.406) / 0.225\n",
    "\n",
    "    # Require an input of shape (None, 768, 1024, 3)\n",
    "    img = np.asarray([img])\n",
    "\n",
    "    # Since we're not doing this in batches, we can just take the first index\n",
    "    result = model.predict(img)[0]\n",
    "\n",
    "    # Resize if needed\n",
    "    if result.shape != (768, 1024, 1):\n",
    "        result = cv2.resize(result, (1024, 768))\n",
    "\n",
    "    end_time = datetime.datetime.now()\n",
    "\n",
    "    time_diff = (end_time - start_time)\n",
    "    execution_time = time_diff.total_seconds() * 1000   # in milliseconds\n",
    "\n",
    "    return (np.sum(result), execution_time)"
   ]
  },
  {
   "cell_type": "code",
   "execution_count": null,
   "metadata": {},
   "outputs": [],
   "source": [
    "# Startup a Discord bot to listen in on image requests\n",
    "\n",
    "!pip install discord.py\n",
    "\n",
    "# Ensure that our Jupyter notebook is able to handle async operations\n",
    "!pip install nest_asyncio \n",
    "import nest_asyncio \n",
    "nest_asyncio.apply()"
   ]
  },
  {
   "cell_type": "code",
   "execution_count": null,
   "metadata": {},
   "outputs": [],
   "source": [
    "import discord\n",
    "import os\n",
    "import requests\n",
    "\n",
    "client = discord.Client()\n",
    "\n",
    "@client.event\n",
    "async def on_ready():\n",
    "  print('We have logged in as {0.user}'.format(client))\n",
    "\n",
    "@client.event\n",
    "async def on_message(message):\n",
    "    if message.author == client.user:\n",
    "        return\n",
    "\n",
    "    # Predict only if there's an attachment\n",
    "    if len(message.attachments) > 0:\n",
    "        # Limit to the first attachment in case someone sends a stupidly big batch of images\n",
    "        num_heads, execution_time = request(message.attachments[0].url)\n",
    "\n",
    "        await message.channel.send(f\"There are {num_heads:.2f} people in this image. It took {execution_time:.2f} ms to process.\")\n",
    "        return\n",
    "\n",
    "API_KEY = 'YOUR_API_KEY_HERE'\n",
    "client.run(API_KEY)"
   ]
  }
 ]
}